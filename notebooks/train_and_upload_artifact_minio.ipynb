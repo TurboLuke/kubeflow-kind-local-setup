{
 "cells": [
  {
   "cell_type": "code",
   "execution_count": 1,
   "id": "66a85712-0ce0-4501-826f-2bea4c7f4c10",
   "metadata": {},
   "outputs": [
    {
     "name": "stdout",
     "output_type": "stream",
     "text": [
      "Note: you may need to restart the kernel to use updated packages.\n"
     ]
    }
   ],
   "source": [
    "%pip install --quiet minio scikit-learn joblib"
   ]
  },
  {
   "cell_type": "code",
   "execution_count": null,
   "id": "8c93283e-1c48-4cc8-bf60-0f99b91b0a64",
   "metadata": {},
   "outputs": [],
   "source": [
    "from minio import Minio\n",
    "from minio.commonconfig    import ENABLED    \n",
    "from minio.versioningconfig import VersioningConfig \n",
    "\n",
    "\n",
    "# NEVER DO THIS IN PRODUCTION, this is just for demo purposes\n",
    "minio_client =  Minio(\n",
    "    \"minio.kubeflow-user-example-com.svc:9000\",\n",
    "    access_key=\"minioDev\",\n",
    "    secret_key=\"minioDevPass123\",\n",
    "    secure=False,\n",
    ")\n",
    "\n",
    "bucket_name = \"ml-artifacts\"\n",
    "if not minio_client.bucket_exists(bucket_name):\n",
    "    minio_client.make_bucket(bucket_name)\n",
    "\n",
    "# idempotently enable versioning\n",
    "cfg = minio_client.get_bucket_versioning(bucket_name)\n",
    "if cfg.status != ENABLED:\n",
    "    minio_client.set_bucket_versioning(bucket, VersioningConfig(ENABLED))\n",
    "    print(\"✅  Bucket versioning enabled\")\n"
   ]
  },
  {
   "cell_type": "code",
   "execution_count": 3,
   "id": "4748e2d4-b7aa-49b7-b99e-35f390acd7f9",
   "metadata": {},
   "outputs": [
    {
     "name": "stdout",
     "output_type": "stream",
     "text": [
      "✅ Model trained & saved to iris_model.pkl\n"
     ]
    }
   ],
   "source": [
    "from sklearn.datasets import load_iris\n",
    "from sklearn.linear_model import LogisticRegression\n",
    "import joblib\n",
    "\n",
    "X, y = load_iris(return_X_y=True)\n",
    "model = LogisticRegression(max_iter=200)\n",
    "model.fit(X, y)\n",
    "\n",
    "artifact_file = \"iris_model.pkl\"\n",
    "joblib.dump(model, artifact_file)\n",
    "print(f\"✅ Model trained & saved to {artifact_file}\")"
   ]
  },
  {
   "cell_type": "code",
   "execution_count": 4,
   "id": "9ebb5957-3a48-4ca4-8cb2-b082d05605fa",
   "metadata": {},
   "outputs": [
    {
     "name": "stdout",
     "output_type": "stream",
     "text": [
      "📤 Uploaded iris_model.pkl  →  s3://ml-artifacts/iris_model.pkl\n",
      "\n",
      "Objects now in bucket:\n",
      " • iris_model.pkl\n"
     ]
    }
   ],
   "source": [
    "object_name = artifact_file        # you can add folder prefixes here\n",
    "\n",
    "minio_client.fput_object(bucket_name, object_name, artifact_file)\n",
    "print(f\"📤 Uploaded {artifact_file}  →  s3://{bucket_name}/{object_name}\")\n",
    "\n",
    "# ─────────────────────────────────────────────\n",
    "# 5) Verify bucket contents\n",
    "# ─────────────────────────────────────────────\n",
    "print(\"\\nObjects now in bucket:\")\n",
    "for obj in minio_client.list_objects(bucket_name):\n",
    "    print(\" •\", obj.object_name)"
   ]
  }
 ],
 "metadata": {
  "kernelspec": {
   "display_name": "Python 3 (ipykernel)",
   "language": "python",
   "name": "python3"
  },
  "language_info": {
   "codemirror_mode": {
    "name": "ipython",
    "version": 3
   },
   "file_extension": ".py",
   "mimetype": "text/x-python",
   "name": "python",
   "nbconvert_exporter": "python",
   "pygments_lexer": "ipython3",
   "version": "3.11.11"
  }
 },
 "nbformat": 4,
 "nbformat_minor": 5
}
