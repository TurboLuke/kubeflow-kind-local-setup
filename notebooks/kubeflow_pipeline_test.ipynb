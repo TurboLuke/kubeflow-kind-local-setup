{
 "cells": [
  {
   "cell_type": "code",
   "execution_count": null,
   "id": "e3dc8c15-550e-4e68-9f8c-e6e3c10d36d5",
   "metadata": {},
   "outputs": [],
   "source": [
    "import kfp\n",
    "\n",
    "\n",
    "client = kfp.Client()  \n",
    "\n",
    "experiments = client.list_experiments(namespace='kubeflow-user-example-com')\n",
    "\n",
    "print(experiments)"
   ]
  }
 ],
 "metadata": {
  "kernelspec": {
   "display_name": "Python 3 (ipykernel)",
   "language": "python",
   "name": "python3"
  },
  "language_info": {
   "codemirror_mode": {
    "name": "ipython",
    "version": 3
   },
   "file_extension": ".py",
   "mimetype": "text/x-python",
   "name": "python",
   "nbconvert_exporter": "python",
   "pygments_lexer": "ipython3",
   "version": "3.11.11"
  }
 },
 "nbformat": 4,
 "nbformat_minor": 5
}
